{
 "cells": [
  {
   "cell_type": "markdown",
   "metadata": {},
   "source": [
    "# 6. Hand shape image classification"
   ]
  },
  {
   "cell_type": "markdown",
   "metadata": {},
   "source": [
    "## 6.2 initial learning"
   ]
  },
  {
   "cell_type": "code",
   "execution_count": 3,
   "metadata": {},
   "outputs": [],
   "source": [
    "import os\n",
    "import sys\n",
    "import glob\n",
    "import numpy as np\n",
    "from skimage import io\n",
    "from sklearn import datasets"
   ]
  },
  {
   "cell_type": "code",
   "execution_count": 4,
   "metadata": {},
   "outputs": [],
   "source": [
    "#define constant\n",
    "IMAGE_SIZE = 40\n",
    "COLOR_BYTE = 3\n",
    "CATEGORY_NUM = 6"
   ]
  },
  {
   "cell_type": "code",
   "execution_count": 9,
   "metadata": {},
   "outputs": [],
   "source": [
    "#function for getting hand image\n",
    "\n",
    "def load_handimage(path):\n",
    "    files = glob.glob(os.path.join(path, '*/*.png'))\n",
    "    \n",
    "    #allocate for image and label\n",
    "    images = np.ndarray((len(files), IMAGE_SIZE,IMAGE_SIZE, COLOR_BYTE),\n",
    "                       dtype = np.uint8)\n",
    "    labels = np.ndarray(len(files), dtype=np.int)\n",
    "    \n",
    "    for idx, file in enumerate(files):\n",
    "        #load image\n",
    "        image = io.imread(file)\n",
    "        images[idx] = image\n",
    "        \n",
    "        #get label name (※dir name represents label)\n",
    "        label = os.path.split(os.path.dirname(file))[-1]\n",
    "        labels[idx] = label\n",
    "    \n",
    "    #follow other datasets' format in scikit-learn\n",
    "    #print(images.shape)\n",
    "    flat_data = images.reshape((-1, IMAGE_SIZE*IMAGE_SIZE*COLOR_BYTE))\n",
    "    #print(flat_data.shape)\n",
    "    images = flat_data.view()\n",
    "    return datasets.base.Bunch(data=flat_data,\n",
    "                              target=labels.astype(np.int),\n",
    "                              target_names=np.arange(CATEGORY_NUM),\n",
    "                              images=images,\n",
    "                              DESCR=None)\n"
   ]
  },
  {
   "cell_type": "code",
   "execution_count": 11,
   "metadata": {},
   "outputs": [],
   "source": [
    "train_path='./data/my_learn8'\n",
    "test_path='./data/my_test2'"
   ]
  },
  {
   "cell_type": "code",
   "execution_count": 12,
   "metadata": {},
   "outputs": [
    {
     "name": "stdout",
     "output_type": "stream",
     "text": [
      "Accuracy: 0.9166666666666666\n"
     ]
    }
   ],
   "source": [
    "from sklearn import svm, metrics\n",
    "\n",
    "#load dataset\n",
    "train = load_handimage(train_path)\n",
    "test = load_handimage(test_path)\n",
    "\n",
    "#instantiate model and fit\n",
    "classifier = svm.LinearSVC()\n",
    "classifier.fit(train.data, train.target)\n",
    "\n",
    "#evaluate perfornace with test data\n",
    "predicted = classifier.predict(test.data)\n",
    "\n",
    "print('Accuracy:', metrics.accuracy_score(test.target, predicted))"
   ]
  },
  {
   "cell_type": "code",
   "execution_count": null,
   "metadata": {},
   "outputs": [],
   "source": []
  }
 ],
 "metadata": {
  "kernelspec": {
   "display_name": "Python 3",
   "language": "python",
   "name": "python3"
  },
  "language_info": {
   "codemirror_mode": {
    "name": "ipython",
    "version": 3
   },
   "file_extension": ".py",
   "mimetype": "text/x-python",
   "name": "python",
   "nbconvert_exporter": "python",
   "pygments_lexer": "ipython3",
   "version": "3.7.0"
  }
 },
 "nbformat": 4,
 "nbformat_minor": 2
}
