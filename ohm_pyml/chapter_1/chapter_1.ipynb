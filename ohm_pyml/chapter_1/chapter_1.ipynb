{
 "cells": [
  {
   "cell_type": "markdown",
   "metadata": {},
   "source": [
    "# Chapter 1"
   ]
  },
  {
   "cell_type": "code",
   "execution_count": 1,
   "metadata": {},
   "outputs": [],
   "source": [
    "%matplotlib inline\n",
    "\n",
    "#data preparation\n",
    "import matplotlib.pyplot as plt\n",
    "import numpy as np"
   ]
  },
  {
   "cell_type": "markdown",
   "metadata": {},
   "source": [
    "## 1.5.2 data preparation"
   ]
  },
  {
   "cell_type": "code",
   "execution_count": 2,
   "metadata": {},
   "outputs": [],
   "source": [
    "#definition\n",
    "\n",
    "#x axis\n",
    "x_max = 1\n",
    "x_min = -1\n",
    "\n",
    "#y_axis\n",
    "y_max = 2\n",
    "y_min = -1\n"
   ]
  },
  {
   "cell_type": "code",
   "execution_count": 11,
   "metadata": {},
   "outputs": [],
   "source": [
    "#scale : partition per unit\n",
    "SCALE = 50"
   ]
  },
  {
   "cell_type": "code",
   "execution_count": 64,
   "metadata": {},
   "outputs": [],
   "source": [
    "#test data ratio\n",
    "TEST_RATE = 0.3"
   ]
  },
  {
   "cell_type": "code",
   "execution_count": 17,
   "metadata": {},
   "outputs": [
    {
     "name": "stdout",
     "output_type": "stream",
     "text": [
      "(100,)\n",
      "[-1.0000000e+00 -9.8000000e-01 -9.6000000e-01 -9.4000000e-01\n",
      " -9.2000000e-01 -9.0000000e-01 -8.8000000e-01 -8.6000000e-01\n",
      " -8.4000000e-01 -8.2000000e-01 -8.0000000e-01 -7.8000000e-01\n",
      " -7.6000000e-01 -7.4000000e-01 -7.2000000e-01 -7.0000000e-01\n",
      " -6.8000000e-01 -6.6000000e-01 -6.4000000e-01 -6.2000000e-01\n",
      " -6.0000000e-01 -5.8000000e-01 -5.6000000e-01 -5.4000000e-01\n",
      " -5.2000000e-01 -5.0000000e-01 -4.8000000e-01 -4.6000000e-01\n",
      " -4.4000000e-01 -4.2000000e-01 -4.0000000e-01 -3.8000000e-01\n",
      " -3.6000000e-01 -3.4000000e-01 -3.2000000e-01 -3.0000000e-01\n",
      " -2.8000000e-01 -2.6000000e-01 -2.4000000e-01 -2.2000000e-01\n",
      " -2.0000000e-01 -1.8000000e-01 -1.6000000e-01 -1.4000000e-01\n",
      " -1.2000000e-01 -1.0000000e-01 -8.0000000e-02 -6.0000000e-02\n",
      " -4.0000000e-02 -2.0000000e-02  8.8817842e-16  2.0000000e-02\n",
      "  4.0000000e-02  6.0000000e-02  8.0000000e-02  1.0000000e-01\n",
      "  1.2000000e-01  1.4000000e-01  1.6000000e-01  1.8000000e-01\n",
      "  2.0000000e-01  2.2000000e-01  2.4000000e-01  2.6000000e-01\n",
      "  2.8000000e-01  3.0000000e-01  3.2000000e-01  3.4000000e-01\n",
      "  3.6000000e-01  3.8000000e-01  4.0000000e-01  4.2000000e-01\n",
      "  4.4000000e-01  4.6000000e-01  4.8000000e-01  5.0000000e-01\n",
      "  5.2000000e-01  5.4000000e-01  5.6000000e-01  5.8000000e-01\n",
      "  6.0000000e-01  6.2000000e-01  6.4000000e-01  6.6000000e-01\n",
      "  6.8000000e-01  7.0000000e-01  7.2000000e-01  7.4000000e-01\n",
      "  7.6000000e-01  7.8000000e-01  8.0000000e-01  8.2000000e-01\n",
      "  8.4000000e-01  8.6000000e-01  8.8000000e-01  9.0000000e-01\n",
      "  9.2000000e-01  9.4000000e-01  9.6000000e-01  9.8000000e-01]\n",
      "---\n",
      "(100, 1)\n"
     ]
    }
   ],
   "source": [
    "#data generation\n",
    "\n",
    "#np.arange(start, stop, step)\n",
    "data_x = np.arange(x_min, x_max, 1/float(SCALE))\n",
    "print(data_x.shape)\n",
    "print(data_x)\n",
    "print('---')\n",
    "\n",
    "data_x = data_x.reshape(-1,1)\n",
    "print(data_x.shape)"
   ]
  },
  {
   "cell_type": "code",
   "execution_count": 32,
   "metadata": {},
   "outputs": [],
   "source": [
    "#true data\n",
    "data_ty = data_x ** 2\n",
    "\n",
    "#data with noise\n",
    "data_vy = data_ty + np.random.randn(len(data_ty),1) * 0.5\n"
   ]
  },
  {
   "cell_type": "markdown",
   "metadata": {},
   "source": [
    "### original part: data overview with pandas DataFrame"
   ]
  },
  {
   "cell_type": "code",
   "execution_count": 34,
   "metadata": {},
   "outputs": [
    {
     "name": "stdout",
     "output_type": "stream",
     "text": [
      "      x      ty        vy\n",
      "0 -1.00  1.0000  0.908538\n",
      "1 -0.98  0.9604  0.811660\n",
      "2 -0.96  0.9216  0.042346\n",
      "3 -0.94  0.8836  0.364947\n",
      "4 -0.92  0.8464  0.446177\n",
      "5 -0.90  0.8100  1.665942\n",
      "6 -0.88  0.7744  0.532167\n",
      "7 -0.86  0.7396  1.082921\n",
      "8 -0.84  0.7056  1.358428\n",
      "9 -0.82  0.6724  0.829429\n"
     ]
    }
   ],
   "source": [
    "# original part : data overview\n",
    "import pandas as pd\n",
    "\n",
    "data = {\n",
    "    'x' :data_x.reshape(-1),\n",
    "    'ty':data_ty.reshape(-1),\n",
    "    'vy':data_vy.reshape(-1)\n",
    "}\n",
    "\n",
    "data_table = pd.DataFrame(data=data)\n",
    "print(data_table.head(10))"
   ]
  },
  {
   "cell_type": "markdown",
   "metadata": {},
   "source": [
    "### define train/test split function"
   ]
  },
  {
   "cell_type": "code",
   "execution_count": 38,
   "metadata": {},
   "outputs": [],
   "source": [
    "def split_train_test(array,test_rate):\n",
    "    length = len(array)\n",
    "    n_train = int(length * (1-test_rate))\n",
    "    \n",
    "    indices = np.array((range(length)))\n",
    "    np.random.shuffle(indices)\n",
    "    idx_train = indices[:n_train]\n",
    "    idx_test = indices[n_train:]\n",
    "    \n",
    "    return sorted(idx_train), sorted(idx_test)"
   ]
  },
  {
   "cell_type": "code",
   "execution_count": 42,
   "metadata": {},
   "outputs": [],
   "source": [
    "indices = np.arange(len(data_x))\n",
    "idx_train, idx_test = split_train_test(indices, TEST_RATE)\n",
    "\n",
    "x_train = data_x[idx_train]\n",
    "y_train = data_vy[idx_train]\n",
    "\n",
    "x_test = data_x[idx_test]\n",
    "y_test = data_vy[idx_test]"
   ]
  },
  {
   "cell_type": "code",
   "execution_count": 46,
   "metadata": {},
   "outputs": [
    {
     "data": {
      "image/png": "[encoded data removed]",
      "text/plain": [
       "<Figure size 432x288 with 1 Axes>"
      ]
     },
     "metadata": {
      "needs_background": "light"
     },
     "output_type": "display_data"
    },
    {
     "data": {
      "text/plain": [
       "<Figure size 432x288 with 0 Axes>"
      ]
     },
     "metadata": {},
     "output_type": "display_data"
    }
   ],
   "source": [
    "#drawing figure for data overview\n",
    " \n",
    "#scatter plot of objective data\n",
    "plt.scatter(data_x, data_vy, label = 'target')\n",
    "\n",
    "#line plot of original data\n",
    "plt.plot(data_x, data_ty, linestyle=':', label='non noise curve')\n",
    "\n",
    "#set x, y axis\n",
    "plt.xlim(x_min, x_max)\n",
    "plt.ylim(y_min, y_max)\n",
    "\n",
    "#set position of legend\n",
    "plt.legend(bbox_to_anchor=(1.05, 1), loc='upper left', \n",
    "          borderaxespad=0)\n",
    "\n",
    "plt.show()\n",
    "\n",
    "#in case of saving figure\n",
    "#plt.savefig('data_overview.png')"
   ]
  },
  {
   "cell_type": "code",
   "execution_count": null,
   "metadata": {},
   "outputs": [],
   "source": [
    "#in case of saving figure\n",
    "plt.savefig('data_overview.png')"
   ]
  },
  {
   "cell_type": "markdown",
   "metadata": {},
   "source": [
    "## 1.5.3 Classification"
   ]
  },
  {
   "cell_type": "code",
   "execution_count": null,
   "metadata": {},
   "outputs": [],
   "source": [
    "#preparing label\n",
    "\n",
    "#threshold for class : radius from origin\n",
    "#if data_point is near origin:label is True (else: False)\n",
    "CLASS_RADIUS = 0.6\n",
    "\n",
    "labels = (data_x**2 + data_vy**2) < CLASS_RADIUS**2\n",
    "\n",
    "label_train = labels[idx_train] #train data\n",
    "label_test = labels[idx_test]  #test data"
   ]
  },
  {
   "cell_type": "code",
   "execution_count": 52,
   "metadata": {},
   "outputs": [
    {
     "data": {
      "image/png": "[encoded data removed]",
      "text/plain": [
       "<Figure size 432x288 with 1 Axes>"
      ]
     },
     "metadata": {
      "needs_background": "light"
     },
     "output_type": "display_data"
    }
   ],
   "source": [
    "#drawing figure for data overview\n",
    "\n",
    "#scatter plot of train data\n",
    "plt.scatter(x_train[label_train], y_train[label_train],\n",
    "           c='black', s=30, marker='*', label='near train')\n",
    "plt.scatter(x_train[label_train!=True], y_train[label_train!=True],\n",
    "           c='black', s=30, marker='+', label='far train')\n",
    "\n",
    "#scatter plot of test data\n",
    "plt.scatter(x_test[label_test], y_test[label_test],\n",
    "           c='black', s=30, marker='^', label='near test')\n",
    "plt.scatter(x_test[label_test!=True], y_test[label_test!=True],\n",
    "           c='black', s=30, marker='x', label='far test')\n",
    "\n",
    "#line plot of original data\n",
    "plt.plot(data_x, data_ty, linestyle=':', label='non noise curve')\n",
    "\n",
    "#class boundary\n",
    "circle = plt.Circle((0,0), CLASS_RADIUS, alpha=0.1, label='near area')\n",
    "ax = plt.gca() # get current axes\n",
    "ax.add_patch(circle)\n",
    "\n",
    "#set x, y axis\n",
    "plt.xlim(x_min, x_max)\n",
    "plt.ylim(y_min, y_max)\n",
    "\n",
    "#set position of legend\n",
    "plt.legend(bbox_to_anchor=(1.05, 1), loc='upper left', \n",
    "          borderaxespad=0)\n",
    "\n",
    "plt.show()\n"
   ]
  },
  {
   "cell_type": "code",
   "execution_count": null,
   "metadata": {},
   "outputs": [],
   "source": [
    "#in case of saving figure\n",
    "plt.savefig('classification_overview.png')"
   ]
  },
  {
   "cell_type": "code",
   "execution_count": 53,
   "metadata": {},
   "outputs": [],
   "source": [
    "#learning by Support Vector Machine\n",
    "from sklearn import svm\n",
    "from sklearn.metrics import confusion_matrix, accuracy_score"
   ]
  },
  {
   "cell_type": "code",
   "execution_count": 61,
   "metadata": {},
   "outputs": [
    {
     "name": "stdout",
     "output_type": "stream",
     "text": [
      "(70, 2) (30, 2)\n"
     ]
    }
   ],
   "source": [
    "#np.c_ : concatenate two multidimensional arrays on lowest dimension.\n",
    "#example (100,1) (100,1) -> (100,2)\n",
    "\n",
    "data_train = np.c_[x_train, y_train]\n",
    "data_test = np.c_[x_test, y_test]\n",
    "\n",
    "print(data_train.shape, data_test.shape)"
   ]
  },
  {
   "cell_type": "code",
   "execution_count": 59,
   "metadata": {},
   "outputs": [],
   "source": [
    "#instantiate SVM module\n",
    "classifier = svm.SVC(gamma=1)\n",
    "\n",
    "#train SVM module\n",
    "classifier.fit(data_train, label_train.reshape(-1))"
   ]
  },
  {
   "cell_type": "code",
   "execution_count": 62,
   "metadata": {},
   "outputs": [
    {
     "name": "stdout",
     "output_type": "stream",
     "text": [
      "accuracy score:\n",
      " 0.9333333333333333\n",
      "Confusion matrix:\n",
      " [[18  1]\n",
      " [ 1 10]]\n"
     ]
    }
   ],
   "source": [
    "#evaluate SVM model\n",
    "pred_test = classifier.predict(data_test)\n",
    "\n",
    "print('accuracy score:\\n', accuracy_score(label_test.reshape(-1), pred_test))\n",
    "\n",
    "#show confusion matrix\n",
    "print('Confusion matrix:\\n', confusion_matrix(label_test.reshape(-1), pred_test))\n",
    "\n",
    "#classification part end"
   ]
  },
  {
   "cell_type": "markdown",
   "metadata": {},
   "source": [
    "## 1.5.4 Regression"
   ]
  },
  {
   "cell_type": "markdown",
   "metadata": {},
   "source": [
    "### linear regression"
   ]
  },
  {
   "cell_type": "code",
   "execution_count": 72,
   "metadata": {},
   "outputs": [],
   "source": [
    "from sklearn import linear_model"
   ]
  },
  {
   "cell_type": "code",
   "execution_count": 73,
   "metadata": {},
   "outputs": [
    {
     "data": {
      "text/plain": [
       "LinearRegression(copy_X=True, fit_intercept=True, n_jobs=1, normalize=False)"
      ]
     },
     "execution_count": 73,
     "metadata": {},
     "output_type": "execute_result"
    }
   ],
   "source": [
    "#linear regression\n",
    "\n",
    "#prepare X \n",
    "X1_TRAIN = x_train\n",
    "X1_TEST = x_test\n",
    "\n",
    "#train\n",
    "model1 = linear_model.LinearRegression()\n",
    "model1.fit(X1_TRAIN, y_train)"
   ]
  },
  {
   "cell_type": "markdown",
   "metadata": {},
   "source": [
    "### quadratic regression"
   ]
  },
  {
   "cell_type": "code",
   "execution_count": 74,
   "metadata": {},
   "outputs": [
    {
     "data": {
      "text/plain": [
       "LinearRegression(copy_X=True, fit_intercept=True, n_jobs=1, normalize=False)"
      ]
     },
     "execution_count": 74,
     "metadata": {},
     "output_type": "execute_result"
    }
   ],
   "source": [
    "#preapare x\n",
    "X2_TRAIN = np.c_[x_train**2, x_train]\n",
    "X2_TEST = np.c_[x_test**2, x_test]\n",
    "\n",
    "#train\n",
    "model2 = linear_model.LinearRegression()\n",
    "model2.fit(X2_TRAIN, y_train)"
   ]
  },
  {
   "cell_type": "markdown",
   "metadata": {},
   "source": [
    "### n-th order regression"
   ]
  },
  {
   "cell_type": "code",
   "execution_count": 79,
   "metadata": {},
   "outputs": [
    {
     "name": "stdout",
     "output_type": "stream",
     "text": [
      "(70, 9)\n"
     ]
    },
    {
     "data": {
      "text/plain": [
       "LinearRegression(copy_X=True, fit_intercept=True, n_jobs=1, normalize=False)"
      ]
     },
     "execution_count": 79,
     "metadata": {},
     "output_type": "execute_result"
    }
   ],
   "source": [
    "#preapare x\n",
    "Xn_TRAIN = x_train\n",
    "Xn_TEST = x_test\n",
    "\n",
    "#set order\n",
    "order = 9\n",
    "\n",
    "for i in range(2, order+1):\n",
    "    Xn_TRAIN = np.c_[x_train**i, Xn_TRAIN]\n",
    "    Xn_TEST = np.c_[x_test**i, Xn_TEST]\n",
    "\n",
    "print(Xn_TRAIN.shape)\n",
    "    \n",
    "#train\n",
    "modeln = linear_model.LinearRegression()\n",
    "modeln.fit(Xn_TRAIN, y_train)"
   ]
  },
  {
   "cell_type": "code",
   "execution_count": 81,
   "metadata": {},
   "outputs": [
    {
     "data": {
      "image/png": "[encoded data removed]",
      "text/plain": [
       "<Figure size 432x288 with 1 Axes>"
      ]
     },
     "metadata": {
      "needs_background": "light"
     },
     "output_type": "display_data"
    }
   ],
   "source": [
    "#drawing result\n",
    "plt.plot(x_test, model1.predict(X1_TEST), linestyle='-.',\n",
    "        label = 'poly deg 1')\n",
    "plt.plot(x_test, model2.predict(X2_TEST), linestyle='--',\n",
    "        label = 'poly deg 2')\n",
    "plt.plot(x_test, modeln.predict(Xn_TEST), linestyle='-',\n",
    "        label = 'poly deg 2')\n",
    "\n",
    "#scatter plot of train data\n",
    "plt.scatter(x_train, y_train, c='black', s=30, \n",
    "            marker='v', label='train')\n",
    "plt.scatter(x_test, y_test, c='black', s=30, \n",
    "            marker='x', label='test')\n",
    "\n",
    "\n",
    "#line plot of original data\n",
    "plt.plot(data_x, data_ty, linestyle=':', label='non noise curve')\n",
    "\n",
    "#set x, y axis\n",
    "plt.xlim(x_min, x_max)\n",
    "plt.ylim(y_min, y_max)\n",
    "\n",
    "#set position of legend\n",
    "plt.legend(bbox_to_anchor=(1.05, 1), loc='upper left', \n",
    "          borderaxespad=0)\n",
    "\n",
    "plt.show()"
   ]
  },
  {
   "cell_type": "markdown",
   "metadata": {},
   "source": [
    "## 1.5.5 clustering"
   ]
  },
  {
   "cell_type": "code",
   "execution_count": 82,
   "metadata": {},
   "outputs": [],
   "source": [
    "from sklearn import cluster"
   ]
  },
  {
   "cell_type": "code",
   "execution_count": 85,
   "metadata": {},
   "outputs": [],
   "source": [
    "#concatenate x and y\n",
    "data = np.c_[data_x, data_vy]\n",
    "\n",
    "model = cluster.KMeans(n_clusters=3)\n",
    "model.fit(data)\n",
    "\n",
    "labels = model.labels_"
   ]
  },
  {
   "cell_type": "code",
   "execution_count": 86,
   "metadata": {},
   "outputs": [
    {
     "data": {
      "image/png": "[encoded data removed]",
      "text/plain": [
       "<Figure size 432x288 with 1 Axes>"
      ]
     },
     "metadata": {
      "needs_background": "light"
     },
     "output_type": "display_data"
    }
   ],
   "source": [
    "#drawing result\n",
    "\n",
    "plt.scatter(data_x[labels==0], data_vy[labels==0],\n",
    "           c='black', marker='^', label='cluster_0')\n",
    "plt.scatter(data_x[labels==1], data_vy[labels==1],\n",
    "           c='black', marker='x', label='cluster_1')\n",
    "plt.scatter(data_x[labels==2], data_vy[labels==2],\n",
    "           c='black', marker='*', label='cluster_2')\n",
    "\n",
    "\n",
    "#line plot of original data\n",
    "plt.plot(data_x, data_ty, linestyle=':', label='non noise curve')\n",
    "\n",
    "#set x, y axis\n",
    "plt.xlim(x_min, x_max)\n",
    "plt.ylim(y_min, y_max)\n",
    "\n",
    "#set position of legend\n",
    "plt.legend(bbox_to_anchor=(1.05, 1), loc='upper left', \n",
    "          borderaxespad=0)\n",
    "\n",
    "plt.show()"
   ]
  },
  {
   "cell_type": "code",
   "execution_count": null,
   "metadata": {},
   "outputs": [],
   "source": []
  }
 ],
 "metadata": {
  "kernelspec": {
   "display_name": "Python 3",
   "language": "python",
   "name": "python3"
  },
  "language_info": {
   "codemirror_mode": {
    "name": "ipython",
    "version": 3
   },
   "file_extension": ".py",
   "mimetype": "text/x-python",
   "name": "python",
   "nbconvert_exporter": "python",
   "pygments_lexer": "ipython3",
   "version": "3.7.0"
  }
 },
 "nbformat": 4,
 "nbformat_minor": 2
}
