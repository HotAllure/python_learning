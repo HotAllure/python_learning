{
 "cells": [
  {
   "cell_type": "markdown",
   "metadata": {},
   "source": [
    "# Chapter 3"
   ]
  },
  {
   "cell_type": "markdown",
   "metadata": {},
   "source": [
    "## 3.2"
   ]
  },
  {
   "cell_type": "markdown",
   "metadata": {},
   "source": [
    "## 3.2.1 digits dataset"
   ]
  },
  {
   "cell_type": "markdown",
   "metadata": {},
   "source": [
    "### data overview"
   ]
  },
  {
   "cell_type": "code",
   "execution_count": 17,
   "metadata": {},
   "outputs": [],
   "source": [
    "%matplotlib inline\n",
    "import matplotlib.pyplot as plt\n",
    "from sklearn import datasets"
   ]
  },
  {
   "cell_type": "code",
   "execution_count": 18,
   "metadata": {},
   "outputs": [
    {
     "name": "stdout",
     "output_type": "stream",
     "text": [
      "<class 'sklearn.utils.Bunch'>\n",
      "['DESCR', 'data', 'images', 'target', 'target_names']\n"
     ]
    }
   ],
   "source": [
    "#download digits data\n",
    "digits = datasets.load_digits()\n",
    "\n",
    "#show attributes of digits dataset\n",
    "print(type(digits))\n",
    "print(dir(digits))"
   ]
  },
  {
   "cell_type": "code",
   "execution_count": 19,
   "metadata": {},
   "outputs": [
    {
     "name": "stdout",
     "output_type": "stream",
     "text": [
      "Optical Recognition of Handwritten Digits Data Set\n",
      "===================================================\n",
      "\n",
      "Notes\n",
      "-----\n",
      "Data Set Characteristics:\n",
      "    :Number of Instances: 5620\n",
      "    :Number of Attributes: 64\n",
      "    :Attribute Information: 8x8 image of integer pixels in the range 0..16.\n",
      "    :Missing Attribute Values: None\n",
      "    :Creator: E. Alpaydin (alpaydin '@' boun.edu.tr)\n",
      "    :Date: July; 1998\n",
      "\n",
      "This is a copy of the test set of the UCI ML hand-written digits datasets\n",
      "http://archive.ics.uci.edu/ml/datasets/Optical+Recognition+of+Handwritten+Digits\n",
      "\n",
      "The data set contains images of hand-written digits: 10 classes where\n",
      "each class refers to a digit.\n",
      "\n",
      "Preprocessing programs made available by NIST were used to extract\n",
      "normalized bitmaps of handwritten digits from a preprinted form. From a\n",
      "total of 43 people, 30 contributed to the training set and different 13\n",
      "to the test set. 32x32 bitmaps are divided into nonoverlapping blocks of\n",
      "4x4 and the number of on pixels are counted in each block. This generates\n",
      "an input matrix of 8x8 where each element is an integer in the range\n",
      "0..16. This reduces dimensionality and gives invariance to small\n",
      "distortions.\n",
      "\n",
      "For info on NIST preprocessing routines, see M. D. Garris, J. L. Blue, G.\n",
      "T. Candela, D. L. Dimmick, J. Geist, P. J. Grother, S. A. Janet, and C.\n",
      "L. Wilson, NIST Form-Based Handprint Recognition System, NISTIR 5469,\n",
      "1994.\n",
      "\n",
      "References\n",
      "----------\n",
      "  - C. Kaynak (1995) Methods of Combining Multiple Classifiers and Their\n",
      "    Applications to Handwritten Digit Recognition, MSc Thesis, Institute of\n",
      "    Graduate Studies in Science and Engineering, Bogazici University.\n",
      "  - E. Alpaydin, C. Kaynak (1998) Cascading Classifiers, Kybernetika.\n",
      "  - Ken Tang and Ponnuthurai N. Suganthan and Xi Yao and A. Kai Qin.\n",
      "    Linear dimensionalityreduction using relevance weighted LDA. School of\n",
      "    Electrical and Electronic Engineering Nanyang Technological University.\n",
      "    2005.\n",
      "  - Claudio Gentile. A New Approximate Maximal Margin Classification\n",
      "    Algorithm. NIPS. 2000.\n",
      "\n"
     ]
    },
    {
     "data": {
      "image/png": "[encoded data removed]",
      "text/plain": [
       "<Figure size 432x288 with 10 Axes>"
      ]
     },
     "metadata": {
      "needs_background": "light"
     },
     "output_type": "display_data"
    }
   ],
   "source": [
    "#show description of dataset\n",
    "print(digits.DESCR)\n",
    "\n",
    "#show sample images of each class\n",
    "for label, img in zip(digits.target[:10], digits.images[:10]):\n",
    "    plt.subplot(2,5,label+1)\n",
    "    plt.axis('off')\n",
    "    plt.imshow(img, cmap=plt.cm.gray_r, interpolation='nearest')\n",
    "    plt.title('Digit:{0}'.format(label))\n",
    "\n",
    "plt.show()"
   ]
  },
  {
   "cell_type": "markdown",
   "metadata": {},
   "source": [
    "### classify 3 and 8 by dicision tree (default setting)"
   ]
  },
  {
   "cell_type": "code",
   "execution_count": 37,
   "metadata": {},
   "outputs": [],
   "source": [
    "#get position of 3 and 8 in dataset\n",
    "flag_3_8 = (digits.target==3) + (digits.target==8)\n",
    "\n",
    "#get images and labels of 3 and 8\n",
    "images  =digits.images[flag_3_8]\n",
    "labels  =digits.target[flag_3_8]\n",
    "\n",
    "#convert image into one-dimensional array\n",
    "images = images.reshape(images.shape[0], -1)"
   ]
  },
  {
   "cell_type": "code",
   "execution_count": 38,
   "metadata": {},
   "outputs": [],
   "source": [
    "from sklearn import tree\n",
    "\n",
    "n_samples = len(flag_3_8[flag_3_8])\n",
    "train_ratio = 0.6\n",
    "\n",
    "train_size = int(n_samples * train_ratio)"
   ]
  },
  {
   "cell_type": "code",
   "execution_count": 40,
   "metadata": {},
   "outputs": [
    {
     "data": {
      "text/plain": [
       "DecisionTreeClassifier(class_weight=None, criterion='gini', max_depth=None,\n",
       "            max_features=None, max_leaf_nodes=None,\n",
       "            min_impurity_decrease=0.0, min_impurity_split=None,\n",
       "            min_samples_leaf=1, min_samples_split=2,\n",
       "            min_weight_fraction_leaf=0.0, presort=False, random_state=None,\n",
       "            splitter='best')"
      ]
     },
     "execution_count": 40,
     "metadata": {},
     "output_type": "execute_result"
    }
   ],
   "source": [
    "classifier = tree.DecisionTreeClassifier()\n",
    "classifier.fit(images[:train_size], labels[:train_size])"
   ]
  },
  {
   "cell_type": "markdown",
   "metadata": {},
   "source": [
    "### evaluate result"
   ]
  },
  {
   "cell_type": "code",
   "execution_count": 43,
   "metadata": {},
   "outputs": [],
   "source": [
    "from sklearn import metrics\n",
    "\n",
    "expected = labels[train_size:]\n",
    "predicted = classifier.predict(images[train_size:])"
   ]
  },
  {
   "cell_type": "code",
   "execution_count": 46,
   "metadata": {},
   "outputs": [
    {
     "name": "stdout",
     "output_type": "stream",
     "text": [
      "Accuracy:0.8601398601398601\n",
      "\n",
      "Confusion Matrix:\n",
      " [[60 15]\n",
      " [ 5 63]]\n",
      "\n",
      "Precision:\n",
      " 0.9230769230769231\n",
      "\n",
      "Recall:\n",
      " 0.8\n",
      "\n",
      "F-measure:\n",
      " 0.8571428571428571\n"
     ]
    }
   ],
   "source": [
    "print('Accuracy:{0}'.format(metrics.accuracy_score(expected, predicted)))\n",
    "print('\\nConfusion Matrix:\\n',\n",
    "      metrics.confusion_matrix(expected, predicted))\n",
    "print('\\nPrecision:\\n',\n",
    "      metrics.precision_score(expected, predicted, pos_label=3))\n",
    "print('\\nRecall:\\n',\n",
    "      metrics.recall_score(expected, predicted, pos_label=3))\n",
    "print('\\nF-measure:\\n',\n",
    "      metrics.f1_score(expected, predicted, pos_label=3))\n"
   ]
  },
  {
   "cell_type": "markdown",
   "metadata": {},
   "source": [
    "### set depth of decision tree 3"
   ]
  },
  {
   "cell_type": "code",
   "execution_count": 48,
   "metadata": {},
   "outputs": [
    {
     "name": "stdout",
     "output_type": "stream",
     "text": [
      "Accuracy:0.8601398601398601\n",
      "\n",
      "Confusion Matrix:\n",
      " [[60 15]\n",
      " [ 5 63]]\n",
      "\n",
      "Precision:\n",
      " 0.9230769230769231\n",
      "\n",
      "Recall:\n",
      " 0.8\n",
      "\n",
      "F-measure:\n",
      " 0.8571428571428571\n"
     ]
    }
   ],
   "source": [
    "classifier = tree.DecisionTreeClassifier(max_depth=3)\n",
    "classifier.fit(images[:train_size], labels[:train_size])\n",
    "\n",
    "expected = labels[train_size:]\n",
    "predicted = classifier.predict(images[train_size:])\n",
    "\n",
    "print('Accuracy:{0}'.format(metrics.accuracy_score(expected, predicted)))\n",
    "print('\\nConfusion Matrix:\\n',\n",
    "      metrics.confusion_matrix(expected, predicted))\n",
    "print('\\nPrecision:\\n',\n",
    "      metrics.precision_score(expected, predicted, pos_label=3))\n",
    "print('\\nRecall:\\n',\n",
    "      metrics.recall_score(expected, predicted, pos_label=3))\n",
    "print('\\nF-measure:\\n',\n",
    "      metrics.f1_score(expected, predicted, pos_label=3))"
   ]
  },
  {
   "cell_type": "markdown",
   "metadata": {},
   "source": [
    "### original part:visualize decision tree"
   ]
  },
  {
   "cell_type": "code",
   "execution_count": 55,
   "metadata": {},
   "outputs": [
    {
     "data": {
      "image/svg+xml": [
       "<?xml version=\"1.0\" encoding=\"UTF-8\" standalone=\"no\"?>\n",
       "<!DOCTYPE svg PUBLIC \"-//W3C//DTD SVG 1.1//EN\"\n",
       " \"http://www.w3.org/Graphics/SVG/1.1/DTD/svg11.dtd\">\n",
       "<!-- Generated by graphviz version 2.38.0 (20140413.2041)\n",
       " -->\n",
       "<!-- Title: Tree Pages: 1 -->\n",
       "<svg width=\"666pt\" height=\"414pt\"\n",
       " viewBox=\"0.00 0.00 666.04 414.00\" xmlns=\"http://www.w3.org/2000/svg\" xmlns:xlink=\"http://www.w3.org/1999/xlink\">\n",
       "<g id=\"graph0\" class=\"graph\" transform=\"scale(1 1) rotate(0) translate(4 410)\">\n",
       "<title>Tree</title>\n",
       "<polygon fill=\"white\" stroke=\"none\" points=\"-4,4 -4,-410 662.037,-410 662.037,4 -4,4\"/>\n",
       "<!-- 0 -->\n",
       "<g id=\"node1\" class=\"node\"><title>0</title>\n",
       "<polygon fill=\"none\" stroke=\"black\" points=\"310.807,-406 191.731,-406 191.731,-328 310.807,-328 310.807,-406\"/>\n",
       "<text text-anchor=\"middle\" x=\"251.269\" y=\"-390.8\" font-family=\"Times,serif\" font-size=\"14.00\">X[43] &lt;= 1.5</text>\n",
       "<text text-anchor=\"middle\" x=\"251.269\" y=\"-376.8\" font-family=\"Times,serif\" font-size=\"14.00\">gini = 0.5</text>\n",
       "<text text-anchor=\"middle\" x=\"251.269\" y=\"-362.8\" font-family=\"Times,serif\" font-size=\"14.00\">samples = 214</text>\n",
       "<text text-anchor=\"middle\" x=\"251.269\" y=\"-348.8\" font-family=\"Times,serif\" font-size=\"14.00\">value = [108, 106]</text>\n",
       "<text text-anchor=\"middle\" x=\"251.269\" y=\"-334.8\" font-family=\"Times,serif\" font-size=\"14.00\">class = 3</text>\n",
       "</g>\n",
       "<!-- 1 -->\n",
       "<g id=\"node2\" class=\"node\"><title>1</title>\n",
       "<polygon fill=\"none\" stroke=\"black\" points=\"218.807,-292 113.73,-292 113.73,-214 218.807,-214 218.807,-292\"/>\n",
       "<text text-anchor=\"middle\" x=\"166.269\" y=\"-276.8\" font-family=\"Times,serif\" font-size=\"14.00\">X[34] &lt;= 5.5</text>\n",
       "<text text-anchor=\"middle\" x=\"166.269\" y=\"-262.8\" font-family=\"Times,serif\" font-size=\"14.00\">gini = 0.193</text>\n",
       "<text text-anchor=\"middle\" x=\"166.269\" y=\"-248.8\" font-family=\"Times,serif\" font-size=\"14.00\">samples = 111</text>\n",
       "<text text-anchor=\"middle\" x=\"166.269\" y=\"-234.8\" font-family=\"Times,serif\" font-size=\"14.00\">value = [99, 12]</text>\n",
       "<text text-anchor=\"middle\" x=\"166.269\" y=\"-220.8\" font-family=\"Times,serif\" font-size=\"14.00\">class = 3</text>\n",
       "</g>\n",
       "<!-- 0&#45;&gt;1 -->\n",
       "<g id=\"edge1\" class=\"edge\"><title>0&#45;&gt;1</title>\n",
       "<path fill=\"none\" stroke=\"black\" d=\"M222.254,-327.769C215.484,-318.849 208.205,-309.257 201.208,-300.038\"/>\n",
       "<polygon fill=\"black\" stroke=\"black\" points=\"203.986,-297.908 195.152,-292.058 198.41,-302.14 203.986,-297.908\"/>\n",
       "<text text-anchor=\"middle\" x=\"191.758\" y=\"-312.627\" font-family=\"Times,serif\" font-size=\"14.00\">True</text>\n",
       "</g>\n",
       "<!-- 6 -->\n",
       "<g id=\"node7\" class=\"node\"><title>6</title>\n",
       "<polygon fill=\"none\" stroke=\"black\" points=\"386.307,-292 288.23,-292 288.23,-214 386.307,-214 386.307,-292\"/>\n",
       "<text text-anchor=\"middle\" x=\"337.269\" y=\"-276.8\" font-family=\"Times,serif\" font-size=\"14.00\">X[38] &lt;= 0.5</text>\n",
       "<text text-anchor=\"middle\" x=\"337.269\" y=\"-262.8\" font-family=\"Times,serif\" font-size=\"14.00\">gini = 0.159</text>\n",
       "<text text-anchor=\"middle\" x=\"337.269\" y=\"-248.8\" font-family=\"Times,serif\" font-size=\"14.00\">samples = 103</text>\n",
       "<text text-anchor=\"middle\" x=\"337.269\" y=\"-234.8\" font-family=\"Times,serif\" font-size=\"14.00\">value = [9, 94]</text>\n",
       "<text text-anchor=\"middle\" x=\"337.269\" y=\"-220.8\" font-family=\"Times,serif\" font-size=\"14.00\">class = 8</text>\n",
       "</g>\n",
       "<!-- 0&#45;&gt;6 -->\n",
       "<g id=\"edge6\" class=\"edge\"><title>0&#45;&gt;6</title>\n",
       "<path fill=\"none\" stroke=\"black\" d=\"M280.624,-327.769C287.474,-318.849 294.839,-309.257 301.918,-300.038\"/>\n",
       "<polygon fill=\"black\" stroke=\"black\" points=\"304.731,-302.122 308.045,-292.058 299.179,-297.858 304.731,-302.122\"/>\n",
       "<text text-anchor=\"middle\" x=\"311.3\" y=\"-312.646\" font-family=\"Times,serif\" font-size=\"14.00\">False</text>\n",
       "</g>\n",
       "<!-- 2 -->\n",
       "<g id=\"node3\" class=\"node\"><title>2</title>\n",
       "<polygon fill=\"none\" stroke=\"black\" points=\"98.3067,-171 0.230363,-171 0.230363,-107 98.3067,-107 98.3067,-171\"/>\n",
       "<text text-anchor=\"middle\" x=\"49.2686\" y=\"-155.8\" font-family=\"Times,serif\" font-size=\"14.00\">gini = 0.0</text>\n",
       "<text text-anchor=\"middle\" x=\"49.2686\" y=\"-141.8\" font-family=\"Times,serif\" font-size=\"14.00\">samples = 95</text>\n",
       "<text text-anchor=\"middle\" x=\"49.2686\" y=\"-127.8\" font-family=\"Times,serif\" font-size=\"14.00\">value = [95, 0]</text>\n",
       "<text text-anchor=\"middle\" x=\"49.2686\" y=\"-113.8\" font-family=\"Times,serif\" font-size=\"14.00\">class = 3</text>\n",
       "</g>\n",
       "<!-- 1&#45;&gt;2 -->\n",
       "<g id=\"edge2\" class=\"edge\"><title>1&#45;&gt;2</title>\n",
       "<path fill=\"none\" stroke=\"black\" d=\"M126.331,-213.769C114.27,-202.224 101.035,-189.555 88.9889,-178.023\"/>\n",
       "<polygon fill=\"black\" stroke=\"black\" points=\"91.307,-175.397 81.663,-171.01 86.4665,-180.453 91.307,-175.397\"/>\n",
       "</g>\n",
       "<!-- 3 -->\n",
       "<g id=\"node4\" class=\"node\"><title>3</title>\n",
       "<polygon fill=\"none\" stroke=\"black\" points=\"215.307,-178 117.23,-178 117.23,-100 215.307,-100 215.307,-178\"/>\n",
       "<text text-anchor=\"middle\" x=\"166.269\" y=\"-162.8\" font-family=\"Times,serif\" font-size=\"14.00\">X[46] &lt;= 5.5</text>\n",
       "<text text-anchor=\"middle\" x=\"166.269\" y=\"-148.8\" font-family=\"Times,serif\" font-size=\"14.00\">gini = 0.375</text>\n",
       "<text text-anchor=\"middle\" x=\"166.269\" y=\"-134.8\" font-family=\"Times,serif\" font-size=\"14.00\">samples = 16</text>\n",
       "<text text-anchor=\"middle\" x=\"166.269\" y=\"-120.8\" font-family=\"Times,serif\" font-size=\"14.00\">value = [4, 12]</text>\n",
       "<text text-anchor=\"middle\" x=\"166.269\" y=\"-106.8\" font-family=\"Times,serif\" font-size=\"14.00\">class = 8</text>\n",
       "</g>\n",
       "<!-- 1&#45;&gt;3 -->\n",
       "<g id=\"edge3\" class=\"edge\"><title>1&#45;&gt;3</title>\n",
       "<path fill=\"none\" stroke=\"black\" d=\"M166.269,-213.769C166.269,-205.57 166.269,-196.803 166.269,-188.28\"/>\n",
       "<polygon fill=\"black\" stroke=\"black\" points=\"169.769,-188.058 166.269,-178.058 162.769,-188.059 169.769,-188.058\"/>\n",
       "</g>\n",
       "<!-- 4 -->\n",
       "<g id=\"node5\" class=\"node\"><title>4</title>\n",
       "<polygon fill=\"none\" stroke=\"black\" points=\"102.307,-64 4.23036,-64 4.23036,-0 102.307,-0 102.307,-64\"/>\n",
       "<text text-anchor=\"middle\" x=\"53.2686\" y=\"-48.8\" font-family=\"Times,serif\" font-size=\"14.00\">gini = 0.0</text>\n",
       "<text text-anchor=\"middle\" x=\"53.2686\" y=\"-34.8\" font-family=\"Times,serif\" font-size=\"14.00\">samples = 12</text>\n",
       "<text text-anchor=\"middle\" x=\"53.2686\" y=\"-20.8\" font-family=\"Times,serif\" font-size=\"14.00\">value = [0, 12]</text>\n",
       "<text text-anchor=\"middle\" x=\"53.2686\" y=\"-6.8\" font-family=\"Times,serif\" font-size=\"14.00\">class = 8</text>\n",
       "</g>\n",
       "<!-- 3&#45;&gt;4 -->\n",
       "<g id=\"edge4\" class=\"edge\"><title>3&#45;&gt;4</title>\n",
       "<path fill=\"none\" stroke=\"black\" d=\"M125.153,-99.7956C115.096,-90.4503 104.335,-80.4509 94.2822,-71.11\"/>\n",
       "<polygon fill=\"black\" stroke=\"black\" points=\"96.4647,-68.3602 86.7566,-64.1172 91.6998,-73.4882 96.4647,-68.3602\"/>\n",
       "</g>\n",
       "<!-- 5 -->\n",
       "<g id=\"node6\" class=\"node\"><title>5</title>\n",
       "<polygon fill=\"none\" stroke=\"black\" points=\"211.807,-64 120.73,-64 120.73,-0 211.807,-0 211.807,-64\"/>\n",
       "<text text-anchor=\"middle\" x=\"166.269\" y=\"-48.8\" font-family=\"Times,serif\" font-size=\"14.00\">gini = 0.0</text>\n",
       "<text text-anchor=\"middle\" x=\"166.269\" y=\"-34.8\" font-family=\"Times,serif\" font-size=\"14.00\">samples = 4</text>\n",
       "<text text-anchor=\"middle\" x=\"166.269\" y=\"-20.8\" font-family=\"Times,serif\" font-size=\"14.00\">value = [4, 0]</text>\n",
       "<text text-anchor=\"middle\" x=\"166.269\" y=\"-6.8\" font-family=\"Times,serif\" font-size=\"14.00\">class = 3</text>\n",
       "</g>\n",
       "<!-- 3&#45;&gt;5 -->\n",
       "<g id=\"edge5\" class=\"edge\"><title>3&#45;&gt;5</title>\n",
       "<path fill=\"none\" stroke=\"black\" d=\"M166.269,-99.7956C166.269,-91.4581 166.269,-82.6 166.269,-74.1534\"/>\n",
       "<polygon fill=\"black\" stroke=\"black\" points=\"169.769,-74.1171 166.269,-64.1172 162.769,-74.1172 169.769,-74.1171\"/>\n",
       "</g>\n",
       "<!-- 7 -->\n",
       "<g id=\"node8\" class=\"node\"><title>7</title>\n",
       "<polygon fill=\"none\" stroke=\"black\" points=\"386.307,-178 288.23,-178 288.23,-100 386.307,-100 386.307,-178\"/>\n",
       "<text text-anchor=\"middle\" x=\"337.269\" y=\"-162.8\" font-family=\"Times,serif\" font-size=\"14.00\">X[60] &lt;= 3.5</text>\n",
       "<text text-anchor=\"middle\" x=\"337.269\" y=\"-148.8\" font-family=\"Times,serif\" font-size=\"14.00\">gini = 0.022</text>\n",
       "<text text-anchor=\"middle\" x=\"337.269\" y=\"-134.8\" font-family=\"Times,serif\" font-size=\"14.00\">samples = 90</text>\n",
       "<text text-anchor=\"middle\" x=\"337.269\" y=\"-120.8\" font-family=\"Times,serif\" font-size=\"14.00\">value = [1, 89]</text>\n",
       "<text text-anchor=\"middle\" x=\"337.269\" y=\"-106.8\" font-family=\"Times,serif\" font-size=\"14.00\">class = 8</text>\n",
       "</g>\n",
       "<!-- 6&#45;&gt;7 -->\n",
       "<g id=\"edge7\" class=\"edge\"><title>6&#45;&gt;7</title>\n",
       "<path fill=\"none\" stroke=\"black\" d=\"M337.269,-213.769C337.269,-205.57 337.269,-196.803 337.269,-188.28\"/>\n",
       "<polygon fill=\"black\" stroke=\"black\" points=\"340.769,-188.058 337.269,-178.058 333.769,-188.059 340.769,-188.058\"/>\n",
       "</g>\n",
       "<!-- 10 -->\n",
       "<g id=\"node11\" class=\"node\"><title>10</title>\n",
       "<polygon fill=\"none\" stroke=\"black\" points=\"547.807,-178 456.73,-178 456.73,-100 547.807,-100 547.807,-178\"/>\n",
       "<text text-anchor=\"middle\" x=\"502.269\" y=\"-162.8\" font-family=\"Times,serif\" font-size=\"14.00\">X[26] &lt;= 3.5</text>\n",
       "<text text-anchor=\"middle\" x=\"502.269\" y=\"-148.8\" font-family=\"Times,serif\" font-size=\"14.00\">gini = 0.473</text>\n",
       "<text text-anchor=\"middle\" x=\"502.269\" y=\"-134.8\" font-family=\"Times,serif\" font-size=\"14.00\">samples = 13</text>\n",
       "<text text-anchor=\"middle\" x=\"502.269\" y=\"-120.8\" font-family=\"Times,serif\" font-size=\"14.00\">value = [8, 5]</text>\n",
       "<text text-anchor=\"middle\" x=\"502.269\" y=\"-106.8\" font-family=\"Times,serif\" font-size=\"14.00\">class = 3</text>\n",
       "</g>\n",
       "<!-- 6&#45;&gt;10 -->\n",
       "<g id=\"edge10\" class=\"edge\"><title>6&#45;&gt;10</title>\n",
       "<path fill=\"none\" stroke=\"black\" d=\"M386.327,-218.7C405.778,-205.497 428.213,-190.268 448.135,-176.745\"/>\n",
       "<polygon fill=\"black\" stroke=\"black\" points=\"450.195,-179.577 456.504,-171.065 446.264,-173.785 450.195,-179.577\"/>\n",
       "</g>\n",
       "<!-- 8 -->\n",
       "<g id=\"node9\" class=\"node\"><title>8</title>\n",
       "<polygon fill=\"none\" stroke=\"black\" points=\"321.807,-64 230.73,-64 230.73,-0 321.807,-0 321.807,-64\"/>\n",
       "<text text-anchor=\"middle\" x=\"276.269\" y=\"-48.8\" font-family=\"Times,serif\" font-size=\"14.00\">gini = 0.0</text>\n",
       "<text text-anchor=\"middle\" x=\"276.269\" y=\"-34.8\" font-family=\"Times,serif\" font-size=\"14.00\">samples = 1</text>\n",
       "<text text-anchor=\"middle\" x=\"276.269\" y=\"-20.8\" font-family=\"Times,serif\" font-size=\"14.00\">value = [1, 0]</text>\n",
       "<text text-anchor=\"middle\" x=\"276.269\" y=\"-6.8\" font-family=\"Times,serif\" font-size=\"14.00\">class = 3</text>\n",
       "</g>\n",
       "<!-- 7&#45;&gt;8 -->\n",
       "<g id=\"edge8\" class=\"edge\"><title>7&#45;&gt;8</title>\n",
       "<path fill=\"none\" stroke=\"black\" d=\"M315.074,-99.7956C309.964,-91 304.517,-81.625 299.37,-72.765\"/>\n",
       "<polygon fill=\"black\" stroke=\"black\" points=\"302.396,-71.0057 294.346,-64.1172 296.343,-74.5221 302.396,-71.0057\"/>\n",
       "</g>\n",
       "<!-- 9 -->\n",
       "<g id=\"node10\" class=\"node\"><title>9</title>\n",
       "<polygon fill=\"none\" stroke=\"black\" points=\"438.307,-64 340.23,-64 340.23,-0 438.307,-0 438.307,-64\"/>\n",
       "<text text-anchor=\"middle\" x=\"389.269\" y=\"-48.8\" font-family=\"Times,serif\" font-size=\"14.00\">gini = 0.0</text>\n",
       "<text text-anchor=\"middle\" x=\"389.269\" y=\"-34.8\" font-family=\"Times,serif\" font-size=\"14.00\">samples = 89</text>\n",
       "<text text-anchor=\"middle\" x=\"389.269\" y=\"-20.8\" font-family=\"Times,serif\" font-size=\"14.00\">value = [0, 89]</text>\n",
       "<text text-anchor=\"middle\" x=\"389.269\" y=\"-6.8\" font-family=\"Times,serif\" font-size=\"14.00\">class = 8</text>\n",
       "</g>\n",
       "<!-- 7&#45;&gt;9 -->\n",
       "<g id=\"edge9\" class=\"edge\"><title>7&#45;&gt;9</title>\n",
       "<path fill=\"none\" stroke=\"black\" d=\"M356.189,-99.7956C360.454,-91.1833 364.994,-82.0154 369.301,-73.3194\"/>\n",
       "<polygon fill=\"black\" stroke=\"black\" points=\"372.557,-74.6318 373.858,-64.1172 366.284,-71.5252 372.557,-74.6318\"/>\n",
       "</g>\n",
       "<!-- 11 -->\n",
       "<g id=\"node12\" class=\"node\"><title>11</title>\n",
       "<polygon fill=\"none\" stroke=\"black\" points=\"547.807,-64 456.73,-64 456.73,-0 547.807,-0 547.807,-64\"/>\n",
       "<text text-anchor=\"middle\" x=\"502.269\" y=\"-48.8\" font-family=\"Times,serif\" font-size=\"14.00\">gini = 0.0</text>\n",
       "<text text-anchor=\"middle\" x=\"502.269\" y=\"-34.8\" font-family=\"Times,serif\" font-size=\"14.00\">samples = 7</text>\n",
       "<text text-anchor=\"middle\" x=\"502.269\" y=\"-20.8\" font-family=\"Times,serif\" font-size=\"14.00\">value = [7, 0]</text>\n",
       "<text text-anchor=\"middle\" x=\"502.269\" y=\"-6.8\" font-family=\"Times,serif\" font-size=\"14.00\">class = 3</text>\n",
       "</g>\n",
       "<!-- 10&#45;&gt;11 -->\n",
       "<g id=\"edge11\" class=\"edge\"><title>10&#45;&gt;11</title>\n",
       "<path fill=\"none\" stroke=\"black\" d=\"M502.269,-99.7956C502.269,-91.4581 502.269,-82.6 502.269,-74.1534\"/>\n",
       "<polygon fill=\"black\" stroke=\"black\" points=\"505.769,-74.1171 502.269,-64.1172 498.769,-74.1172 505.769,-74.1171\"/>\n",
       "</g>\n",
       "<!-- 12 -->\n",
       "<g id=\"node13\" class=\"node\"><title>12</title>\n",
       "<polygon fill=\"none\" stroke=\"black\" points=\"657.807,-64 566.73,-64 566.73,-0 657.807,-0 657.807,-64\"/>\n",
       "<text text-anchor=\"middle\" x=\"612.269\" y=\"-48.8\" font-family=\"Times,serif\" font-size=\"14.00\">gini = 0.278</text>\n",
       "<text text-anchor=\"middle\" x=\"612.269\" y=\"-34.8\" font-family=\"Times,serif\" font-size=\"14.00\">samples = 6</text>\n",
       "<text text-anchor=\"middle\" x=\"612.269\" y=\"-20.8\" font-family=\"Times,serif\" font-size=\"14.00\">value = [1, 5]</text>\n",
       "<text text-anchor=\"middle\" x=\"612.269\" y=\"-6.8\" font-family=\"Times,serif\" font-size=\"14.00\">class = 8</text>\n",
       "</g>\n",
       "<!-- 10&#45;&gt;12 -->\n",
       "<g id=\"edge12\" class=\"edge\"><title>10&#45;&gt;12</title>\n",
       "<path fill=\"none\" stroke=\"black\" d=\"M542.292,-99.7956C552.083,-90.4503 562.558,-80.4509 572.344,-71.11\"/>\n",
       "<polygon fill=\"black\" stroke=\"black\" points=\"574.853,-73.5537 579.67,-64.1172 570.019,-68.4902 574.853,-73.5537\"/>\n",
       "</g>\n",
       "</g>\n",
       "</svg>\n"
      ],
      "text/plain": [
       "<graphviz.files.Source at 0x10ce48470>"
      ]
     },
     "execution_count": 55,
     "metadata": {},
     "output_type": "execute_result"
    }
   ],
   "source": [
    "import graphviz\n",
    "\n",
    "\n",
    "\n",
    "dot_data = tree.export_graphviz(classifier, out_file=None,\n",
    "                                class_names = ['3', '8']) \n",
    "graph = graphviz.Source(dot_data)\n",
    "graph"
   ]
  },
  {
   "cell_type": "markdown",
   "metadata": {},
   "source": [
    " ## 3.5.2 Random Forest - ensembling dicision trees"
   ]
  },
  {
   "cell_type": "code",
   "execution_count": 56,
   "metadata": {},
   "outputs": [
    {
     "name": "stderr",
     "output_type": "stream",
     "text": [
      "/Users/Shota_O/.pyenv/versions/anaconda3-5.0.1/envs/python_learning/lib/python3.7/site-packages/sklearn/ensemble/weight_boosting.py:29: DeprecationWarning: numpy.core.umath_tests is an internal NumPy module and should not be imported. It will be removed in a future NumPy release.\n",
      "  from numpy.core.umath_tests import inner1d\n"
     ]
    }
   ],
   "source": [
    "from sklearn import ensemble\n",
    "\n",
    "classifier = ensemble.RandomForestClassifier(n_estimators=20, \n",
    "                                            max_depth=3,\n",
    "                                            criterion='gini')"
   ]
  },
  {
   "cell_type": "code",
   "execution_count": 57,
   "metadata": {},
   "outputs": [
    {
     "name": "stdout",
     "output_type": "stream",
     "text": [
      "Accuracy:0.9090909090909091\n",
      "\n",
      "Confusion Matrix:\n",
      " [[63 12]\n",
      " [ 1 67]]\n",
      "\n",
      "Precision:\n",
      " 0.984375\n",
      "\n",
      "Recall:\n",
      " 0.84\n",
      "\n",
      "F-measure:\n",
      " 0.9064748201438849\n"
     ]
    }
   ],
   "source": [
    "classifier.fit(images[:train_size], labels[:train_size])\n",
    "\n",
    "expected = labels[train_size:]\n",
    "predicted = classifier.predict(images[train_size:])\n",
    "\n",
    "print('Accuracy:{0}'.format(metrics.accuracy_score(expected, predicted)))\n",
    "print('\\nConfusion Matrix:\\n',\n",
    "      metrics.confusion_matrix(expected, predicted))\n",
    "print('\\nPrecision:\\n',\n",
    "      metrics.precision_score(expected, predicted, pos_label=3))\n",
    "print('\\nRecall:\\n',\n",
    "      metrics.recall_score(expected, predicted, pos_label=3))\n",
    "print('\\nF-measure:\\n',\n",
    "      metrics.f1_score(expected, predicted, pos_label=3))"
   ]
  },
  {
   "cell_type": "markdown",
   "metadata": {},
   "source": [
    "## 3.5.3 AdaBoost -boosting ensemble"
   ]
  },
  {
   "cell_type": "code",
   "execution_count": 58,
   "metadata": {},
   "outputs": [],
   "source": [
    "from sklearn import ensemble\n",
    "\n",
    "#define weak classifier\n",
    "estimator = tree.DecisionTreeClassifier(max_depth=3)\n",
    "\n",
    "#define adaboost classifier\n",
    "classifier = ensemble.AdaBoostClassifier(base_estimator=estimator, \n",
    "                                        n_estimators=20)"
   ]
  },
  {
   "cell_type": "code",
   "execution_count": 59,
   "metadata": {},
   "outputs": [
    {
     "name": "stdout",
     "output_type": "stream",
     "text": [
      "Accuracy:0.9230769230769231\n",
      "\n",
      "Confusion Matrix:\n",
      " [[64 11]\n",
      " [ 0 68]]\n",
      "\n",
      "Precision:\n",
      " 1.0\n",
      "\n",
      "Recall:\n",
      " 0.8533333333333334\n",
      "\n",
      "F-measure:\n",
      " 0.9208633093525179\n"
     ]
    }
   ],
   "source": [
    "classifier.fit(images[:train_size], labels[:train_size])\n",
    "\n",
    "expected = labels[train_size:]\n",
    "predicted = classifier.predict(images[train_size:])\n",
    "\n",
    "print('Accuracy:{0}'.format(metrics.accuracy_score(expected, predicted)))\n",
    "print('\\nConfusion Matrix:\\n',\n",
    "      metrics.confusion_matrix(expected, predicted))\n",
    "print('\\nPrecision:\\n',\n",
    "      metrics.precision_score(expected, predicted, pos_label=3))\n",
    "print('\\nRecall:\\n',\n",
    "      metrics.recall_score(expected, predicted, pos_label=3))\n",
    "print('\\nF-measure:\\n',\n",
    "      metrics.f1_score(expected, predicted, pos_label=3))"
   ]
  },
  {
   "cell_type": "markdown",
   "metadata": {},
   "source": [
    "## 3.5.4 Support Vector Machine"
   ]
  },
  {
   "cell_type": "code",
   "execution_count": 69,
   "metadata": {},
   "outputs": [],
   "source": [
    "from sklearn import svm\n",
    "\n",
    "classifier = svm.SVC(C=1.0, gamma=0.001)"
   ]
  },
  {
   "cell_type": "code",
   "execution_count": 70,
   "metadata": {},
   "outputs": [
    {
     "name": "stdout",
     "output_type": "stream",
     "text": [
      "Accuracy:0.9370629370629371\n",
      "\n",
      "Confusion Matrix:\n",
      " [[66  9]\n",
      " [ 0 68]]\n",
      "\n",
      "Precision:\n",
      " 1.0\n",
      "\n",
      "Recall:\n",
      " 0.88\n",
      "\n",
      "F-measure:\n",
      " 0.9361702127659575\n"
     ]
    }
   ],
   "source": [
    "classifier.fit(images[:train_size], labels[:train_size])\n",
    "\n",
    "expected = labels[train_size:]\n",
    "predicted = classifier.predict(images[train_size:])\n",
    "\n",
    "print('Accuracy:{0}'.format(metrics.accuracy_score(expected, predicted)))\n",
    "print('\\nConfusion Matrix:\\n',\n",
    "      metrics.confusion_matrix(expected, predicted))\n",
    "print('\\nPrecision:\\n',\n",
    "      metrics.precision_score(expected, predicted, pos_label=3))\n",
    "print('\\nRecall:\\n',\n",
    "      metrics.recall_score(expected, predicted, pos_label=3))\n",
    "print('\\nF-measure:\\n',\n",
    "      metrics.f1_score(expected, predicted, pos_label=3))"
   ]
  },
  {
   "cell_type": "code",
   "execution_count": null,
   "metadata": {},
   "outputs": [],
   "source": []
  }
 ],
 "metadata": {
  "kernelspec": {
   "display_name": "Python 3",
   "language": "python",
   "name": "python3"
  },
  "language_info": {
   "codemirror_mode": {
    "name": "ipython",
    "version": 3
   },
   "file_extension": ".py",
   "mimetype": "text/x-python",
   "name": "python",
   "nbconvert_exporter": "python",
   "pygments_lexer": "ipython3",
   "version": "3.7.0"
  }
 },
 "nbformat": 4,
 "nbformat_minor": 2
}
